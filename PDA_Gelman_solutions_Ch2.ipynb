{
  "nbformat": 4,
  "nbformat_minor": 0,
  "metadata": {
    "colab": {
      "name": "PDA-Gelman-solutions-Ch2.ipynb",
      "provenance": [],
      "authorship_tag": "ABX9TyOuYRSM6KBoa6NWCYQQasC7",
      "include_colab_link": true
    },
    "kernelspec": {
      "name": "python3",
      "display_name": "Python 3"
    }
  },
  "cells": [
    {
      "cell_type": "markdown",
      "metadata": {
        "id": "view-in-github",
        "colab_type": "text"
      },
      "source": [
        "<a href=\"https://colab.research.google.com/github/AnandKhandekar/BDA-Gelman-Solved-Exercises/blob/main/PDA_Gelman_solutions_Ch2.ipynb\" target=\"_parent\"><img src=\"https://colab.research.google.com/assets/colab-badge.svg\" alt=\"Open In Colab\"/></a>"
      ]
    },
    {
      "cell_type": "markdown",
      "metadata": {
        "id": "TvUykVsBN6Ir"
      },
      "source": [
        "# Chapter 2 : Bayesian Data analysis\n",
        "##  Exercise Numerical solved in PyMC3\n"
      ]
    },
    {
      "cell_type": "markdown",
      "metadata": {
        "id": "9wBv-CeMTxhL"
      },
      "source": [
        "\n",
        "\n",
        "---\n",
        "\n",
        "\n",
        "**Numerical 2.1 :** Posterior inference: suppose you have a Beta(4, 4) prior distribution on the probability !\n",
        "that a coin will yield a ‘head’ when spun in a specified manner. The coin is independently\n",
        "spun ten times, and ‘heads’ appear fewer than 3 times. You are not told how many heads\n",
        "were seen, only that the number is less than 3. Calculate your exact posterior density\n",
        "(up to a proportionality constant) for ! and sketch it.\n",
        "\n",
        "---\n",
        "\n"
      ]
    },
    {
      "cell_type": "code",
      "metadata": {
        "id": "0dPUlqfLNwbt"
      },
      "source": [
        "import pymc3 as pm\n",
        "import numpy as np\n",
        "import matplotlib.pyplot as plt\n",
        "import scipy.stats as ss\n",
        "\n",
        "\n"
      ],
      "execution_count": 43,
      "outputs": []
    },
    {
      "cell_type": "markdown",
      "metadata": {
        "id": "vNY8_PJzOgSr"
      },
      "source": [
        "$prior$ $density$ $\\propto$ $\\theta^4$ $(1-\\theta)^4$ \n",
        "\n",
        "$Likelihood$  $:$   \n",
        "\n",
        "$Pr(data | \\theta)$ = $\\left( \\begin{array}{c} 10 \\\\ 0 \\end{array} \\right)$ $(1-\\theta)^{10}$ + $\\left( \\begin{array}{c} 10 \\\\ 1 \\end{array} \\right)$ $\\theta$$(1-\\theta)^9$ + $\\left( \\begin{array}{c} 10 \\\\ 2 \\end{array} \\right)$ $\\theta^2$$(1-\\theta)^8$\n",
        "\n",
        "$Posterior Density :$ $\\propto$ $\\theta^4$ $(1-\\theta)^{14}$ + $10\\theta^5$ $(1-\\theta)^{13}$ + $45\\theta^6$ $(1-\\theta)^{12}$\n"
      ]
    },
    {
      "cell_type": "code",
      "metadata": {
        "id": "J4kZSMoiUS1u"
      },
      "source": [
        "theta = np.arange(0,1,0.01)\n",
        "dens = np.power(theta,4)*np.power((1-theta),14) + 10*np.power(theta,5)*np.power((1-theta),13)+ 45*np.power(theta,6)*np.power((1-theta),12)\n",
        "print(dens)"
      ],
      "execution_count": null,
      "outputs": []
    },
    {
      "cell_type": "code",
      "metadata": {
        "id": "zAigQskPVgzT",
        "outputId": "7a132d4d-3ef9-44fb-a1ea-8046119deece",
        "colab": {
          "base_uri": "https://localhost:8080/",
          "height": 282
        }
      },
      "source": [
        "plt.plot(theta,dens)"
      ],
      "execution_count": null,
      "outputs": [
        {
          "output_type": "execute_result",
          "data": {
            "text/plain": [
              "[<matplotlib.lines.Line2D at 0x7f8c86e13198>]"
            ]
          },
          "metadata": {
            "tags": []
          },
          "execution_count": 18
        },
        {
          "output_type": "display_data",
          "data": {
            "image/png": "[encoded data removed]",
            "text/plain": [
              "<Figure size 432x288 with 1 Axes>"
            ]
          },
          "metadata": {
            "tags": [],
            "needs_background": "light"
          }
        }
      ]
    },
    {
      "cell_type": "markdown",
      "metadata": {
        "id": "_6ZQSKZ_hZfd"
      },
      "source": [
        "\n",
        "\n",
        "---\n",
        "**Numerical 3.a**\n",
        "let y be the number of 6’s in 1000 rolls of a fair die.\n",
        "(a) Sketch the approximate distribution of y, based on the normal approximation\n",
        "\n",
        "\n",
        "\n",
        "---\n",
        "\n",
        "\n"
      ]
    },
    {
      "cell_type": "code",
      "metadata": {
        "id": "DiLkBwizaS8Y",
        "outputId": "4d73a30f-4ec5-4092-8548-aa62c382174f",
        "colab": {
          "base_uri": "https://localhost:8080/",
          "height": 266
        }
      },
      "source": [
        "y = np.arange(120,220,0.5)\n",
        "mu = 1000*(1/6)\n",
        "sigma = np.sqrt(1000*(1/6)*(5/6))\n",
        "\n",
        "dens = np.random.normal(mu, sigma, 5000)\n",
        "count, bins, ignored = plt.hist(dens, 100, density=True)\n",
        "plt.plot(bins, 1/(sigma * np.sqrt(2 * np.pi)) *\n",
        "               np.exp( - (bins - mu)**2 / (2 * sigma**2) ),\n",
        "         linewidth=2, color='r')\n",
        "plt.show()"
      ],
      "execution_count": null,
      "outputs": [
        {
          "output_type": "display_data",
          "data": {
            "image/png": "[encoded data removed]",
            "text/plain": [
              "<Figure size 432x288 with 1 Axes>"
            ]
          },
          "metadata": {
            "tags": [],
            "needs_background": "light"
          }
        }
      ]
    },
    {
      "cell_type": "markdown",
      "metadata": {
        "id": "XIKfcYyFh9f_"
      },
      "source": [
        "\n",
        "\n",
        "\n",
        "---\n",
        "#**Numerical 4 :**\n",
        "\n",
        "\n",
        "\n",
        "**Predictive distributions:** let y be the number of \n",
        "6’s in 1000 independent rolls of a particular\n",
        "real die, which may be unfair. Let $\\theta$ be the probability that the die lands on ‘6.’\n",
        "Suppose your prior distribution for $\\theta$ is as follows:\n",
        "Pr($\\theta$ = 1/12) = 0.25,\n",
        "Pr($\\theta$ = 1/6) = 0.5,\n",
        "Pr($\\theta$ = 1/4) = 0.25\n",
        "\n",
        "(a) Using the normal approximation for the conditional distributions, p(y|$\\theta$), sketch your\n",
        "approximate prior predictive distribution for y.\n",
        "\n",
        "(b) Give approximate 5%, 25%, 50%, 75%, and 95% points for the distribution of y. (Be\n",
        "careful here: y does not have a normal distribution, but you can still use the normal\n",
        "distribution as part of your analysis.)"
      ]
    },
    {
      "cell_type": "code",
      "metadata": {
        "id": "3dkCVmUPgFUw"
      },
      "source": [
        "y = np.arange(50,300,1)\n",
        "print(len(y))\n",
        "\n",
        "mu1=1000*1/12\n",
        "sigma1 =  np.sqrt(1000*1/12*(1-1/12))\n",
        "#def dens(x, theta):\n",
        "  #return (np.random.normal(x,1000*theta, np.sqrt(1000*theta*(1-theta))))\n",
        "y1= np.random.normal(1000*1/12, np.sqrt(1000*1/12*(1-1/12)),len(y))\n",
        "count, bins1, ignored = plt.hist(y1, 100, density=True)\n",
        "plt.plot(bins1, 1/(sigma1 * np.sqrt(2 * np.pi)) *\n",
        "               np.exp( - (bins1 - mu1)**2 / (2 * sigma1**2) ),\n",
        "         linewidth=2, color='r')\n",
        "plt.show()\n",
        "\n",
        "y2= np.random.normal(1000*1/6, np.sqrt(1000*1/6*(1-1/6)),len(y))\n",
        "mu2 =1000*1/6\n",
        "sigma2 =  np.sqrt(1000*1/6*(1-1/6))\n",
        "count, bins2, ignored = plt.hist(y2, 100, density=True)\n",
        "plt.plot(bins2, 1/(sigma2 * np.sqrt(2 * np.pi)) *\n",
        "               np.exp( - (bins2 - mu2)**2 / (2 * sigma2**2) ),\n",
        "         linewidth=2, color='r')\n",
        "plt.show()\n",
        "\n",
        "y3= np.random.normal(1000*1/4, np.sqrt(1000*1/4*(1-1/4)),len(y))\n",
        "mu3 =1000*1/4\n",
        "sigma3 =  np.sqrt(1000*1/4*(1-1/4))\n",
        "count3, bins3, ignored = plt.hist(y3, 100, density=True)\n",
        "plt.plot(bins3,     \n",
        "         1/(sigma3 * np.sqrt(2 * np.pi)) *\n",
        "               np.exp( - (bins3 - mu3)**2 / (2 * sigma3**2) ),\n",
        "         linewidth=2, color='r')\n",
        "plt.show()\n",
        "\n",
        "\n",
        "\n"
      ],
      "execution_count": null,
      "outputs": []
    },
    {
      "cell_type": "markdown",
      "metadata": {
        "id": "RBFslDnvtG25"
      },
      "source": [
        "## this below is a simpler way to CONCATENATE all three distributions\n"
      ]
    },
    {
      "cell_type": "code",
      "metadata": {
        "id": "SPvpmbxz0GTU",
        "outputId": "6c380053-73a1-4b9e-d08e-48d8549b8bf4",
        "colab": {
          "base_uri": "https://localhost:8080/",
          "height": 284
        }
      },
      "source": [
        "means = 1000*(1/12), 1000*(1/6), 1000*(1/4)\n",
        "stdevs = np.sqrt(1000*1/12*(1-1/12)),np.sqrt(1000*1/6*(1-1/6)),np.sqrt(1000*1/4*(1-1/4))\n",
        "weights = 0.25, 0.5, 0.25\n",
        "\n",
        "x = np.arange(50., 300., 1)\n",
        "\n",
        "pdfs = [p * ss.norm.pdf(x, mu, sd) for mu, sd, p in zip(means, stdevs, weights)]\n",
        "\n",
        "density = np.sum(np.array(pdfs), axis=0)\n",
        "plt.plot(x, density)"
      ],
      "execution_count": 44,
      "outputs": [
        {
          "output_type": "execute_result",
          "data": {
            "text/plain": [
              "[<matplotlib.lines.Line2D at 0x7f898f985b00>]"
            ]
          },
          "metadata": {
            "tags": []
          },
          "execution_count": 44
        },
        {
          "output_type": "display_data",
          "data": {
            "image/png": "[encoded data removed]",
            "text/plain": [
              "<Figure size 432x288 with 1 Axes>"
            ]
          },
          "metadata": {
            "tags": [],
            "needs_background": "light"
          }
        }
      ]
    },
    {
      "cell_type": "code",
      "metadata": {
        "id": "8OcYwd_7Cquv"
      },
      "source": [
        ""
      ],
      "execution_count": null,
      "outputs": []
    }
  ]
}